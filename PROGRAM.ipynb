{
 "cells": [
  {
   "cell_type": "code",
   "execution_count": null,
   "id": "8e7648bb",
   "metadata": {},
   "outputs": [
    {
     "name": "stdout",
     "output_type": "stream",
     "text": [
      "WELCOME TO OUR STORE\n",
      "----------------------------------------\n",
      "1.Available Products\n"
     ]
    }
   ],
   "source": [
    "import json\n",
    "x=open('Records.json','r')\n",
    "txt=x.read()\n",
    "x.close()\n",
    "records=json.loads(txt)\n",
    "cost=0\n",
    "print(\"WELCOME TO OUR STORE\")\n",
    "print('----------------------------------------')\n",
    "print(\"1.Available Products\")\n",
    "a=3\n",
    "while a>2 :\n",
    "    x=int(input(\"Press 1 to buy products\"))\n",
    "    for i in records.keys():\n",
    "        print(i,' - ','Price -','Rs.',records[i]['price'],(''*5),records[i]['name'],'  Avl :',records[i]['Quantity'])\n",
    "        print('------------------------------------------------------------------------------------------')\n",
    "    item=str(input(\"Enter ID of the product you want to buy :\"))\n",
    "    no=int(input(\"Enter Quantity to buy :\"))\n",
    "    if no>records[item]['Quantity']:\n",
    "        print(\"Stock not Available ! Buy Less Please!\")\n",
    "        no=int(input(\"Enter Quantity to buy :\"))\n",
    "    records[item]['Quantity']-=no\n",
    "    cost=cost+no*records[item]['price']\n",
    "    print(\"Cost :\",cost)\n",
    "    k=int(input(\"Do you want to buy more ? press [1 -  yes/2-  no] \"))\n",
    "    if k==1:\n",
    "        continue\n",
    "    else:\n",
    "        js=json.dumps(records)\n",
    "        z=open('Records.json','w')\n",
    "        z.write(js)\n",
    "        z.close()\n",
    "        break\n",
    "print(\"Thanks for purchasing\")\n",
    "\n",
    "    "
   ]
  },
  {
   "cell_type": "code",
   "execution_count": null,
   "id": "a295bdc8",
   "metadata": {},
   "outputs": [],
   "source": []
  },
  {
   "cell_type": "code",
   "execution_count": null,
   "id": "9d744ebb",
   "metadata": {},
   "outputs": [],
   "source": []
  },
  {
   "cell_type": "code",
   "execution_count": null,
   "id": "90293485",
   "metadata": {},
   "outputs": [],
   "source": []
  },
  {
   "cell_type": "code",
   "execution_count": null,
   "id": "b22d7ed1",
   "metadata": {},
   "outputs": [],
   "source": []
  },
  {
   "cell_type": "code",
   "execution_count": null,
   "id": "890e7a47",
   "metadata": {},
   "outputs": [],
   "source": []
  },
  {
   "cell_type": "code",
   "execution_count": null,
   "id": "734c7bee",
   "metadata": {},
   "outputs": [],
   "source": []
  }
 ],
 "metadata": {
  "kernelspec": {
   "display_name": "Python 3",
   "language": "python",
   "name": "python3"
  },
  "language_info": {
   "codemirror_mode": {
    "name": "ipython",
    "version": 3
   },
   "file_extension": ".py",
   "mimetype": "text/x-python",
   "name": "python",
   "nbconvert_exporter": "python",
   "pygments_lexer": "ipython3",
   "version": "3.8.8"
  }
 },
 "nbformat": 4,
 "nbformat_minor": 5
}
