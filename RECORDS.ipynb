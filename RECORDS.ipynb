{
 "cells": [
  {
   "cell_type": "code",
   "execution_count": 1,
   "id": "3ac720f5",
   "metadata": {},
   "outputs": [],
   "source": [
    "records ={\n",
    "           1001:{'name':'Dairy Milk','Weight':'20 grams','price':10,'Quantity':500,'Food':'Veg'},\n",
    "           1002:{'name':'Five Star','Weight':'20 grams','price':12,'Quantity':500,'Food':'Veg'},\n",
    "           1003:{'name':'Kinder Joy','Weight':'30 grams','price':50,'Quantity':500,'Food':'Non-Veg'},\n",
    "           1004:{'name':'Cadberry','Weight':'10 grams','price':5,'Quantity':500,'Food':'Veg'},\n",
    "           1005:{'name':'Kitkat','Weight':'18 grams','price':10,'Quantity':500,'Food':'Veg'},\n",
    "           1006:{'name':'Perk','Weight':'30 grams','price':5,'Quantity':500,'Food':'Veg'},\n",
    "           1007:{'name':'Milky Bar','Weight':'15 grams','price':10,'Quantity':500,'Food':'Veg'},\n",
    "           1008:{'name':'Britania Cake','Weight':'60 grams','price':12,'Quantity':500,'Food':'Non-Veg'},\n",
    "           1009:{'name':'Yamama Cake Vennila','Weight':'45 grams ','price':5,'Quantity':500,'Food':'Non-Veg'},\n",
    "           1010:{'name':'Yamama Cake Chocolate','Weight':'45 grams','price':5,'Quantity':500,'Food':'Non-Veg'},\n",
    "           1011:{'name':'Yamama Cake Eggless','Weight':'50 grams','price':10,'Quantity':500,'Food':'Veg'},\n",
    "           1012:{'name':'Cup Icecream Vannila','Weight':'250 grams','price':20,'Quantity':500,'Food':'Veg'},\n",
    "           1013:{'name':'Cup Icecream Strawberry','Weight':'250 grams','price':20,'Quantity':500,'Food':'Veg'},\n",
    "           1014:{'name':'Cup Icecream Chocolate','Weight':'250 grams','price':20,'Quantity':500,'Food':'Veg'},\n",
    "           1015:{'name':'Choco Bar IceCream','Weight':'300 grams','price':35,'Quantity':500,'Food':'Veg'},\n",
    "           1016:{'name':'TATA GulcoPlus Lemon','Weight':'150 ml','price':20,'Quantity':500,'Food':'Veg'},\n",
    "           1017:{'name':'TATA GulcoPlus Orange','Weight':'150 ml','price':20,'Quantity':500,'Food':'Veg'},\n",
    "           1018:{'name':'Frooti','Weight':'200ml','price':15,'Quantity':500,'Food':'Veg'},\n",
    "           1019:{'name':'Butter Biscuit','Weight':'300grams','price':20,'Quantity':500,'Food':'Veg'},\n",
    "           1020:{'name':'Kurkure Tomato','Weight':'25 grams','price':5,'Quantity':500,'Food':'Veg'},\n",
    "           1021:{'name':'Dairy Milk Silk','Weight':'180 grams','price':85,'Quantity':500,'Food':'Veg'},\n",
    "           1022:{'name':'Bingo Mad Angles','Weight':'30','price':10,'Quantity':500,'Food':'Veg'},\n",
    "           1023:{'name':'Moong Dall','Weight':'20 grams','price':5,'Quantity':500,'Food':'Veg'},\n",
    "           1024:{'name':'Maggie','Weight':'300 grams','price':12,'Quantity':500,'Food':'Veg'},\n",
    "           1025:{'name':'Yippie Noodles','Weight':'350 grams','price':15,'Quantity':500,'Food':'Veg'},\n",
    "           1026:{'name':'Soupy Noodles','Weight':'300','price':20,'Quantity':500,'Food':'Veg'},\n",
    "           1027:{'name':'Top Ramen','Weight':'400','price':25,'Quantity':500,'Food':'Veg'},\n",
    "           1028:{'name':'Maaza','Weight':'500ml','price':20,'Quantity':500,'Food':'Veg'},\n",
    "           1029:{'name':'Bovonto','Weight':'1 litre','price':35,'Quantity':500,'Food':'Veg'},\n",
    "           1030:{'name':'Potato Chips','Weight':'200 grams','price':40,'Quantity':500,'Food':'Veg'}\n",
    "         }"
   ]
  },
  {
   "cell_type": "code",
   "execution_count": 2,
   "id": "5bc41164",
   "metadata": {},
   "outputs": [],
   "source": [
    "import json"
   ]
  },
  {
   "cell_type": "code",
   "execution_count": 3,
   "id": "6735dd77",
   "metadata": {},
   "outputs": [],
   "source": [
    "js=json.dumps(records)"
   ]
  },
  {
   "cell_type": "code",
   "execution_count": 4,
   "id": "d350d866",
   "metadata": {},
   "outputs": [
    {
     "ename": "FileExistsError",
     "evalue": "[Errno 17] File exists: 'Records.json'",
     "output_type": "error",
     "traceback": [
      "\u001b[0;31m---------------------------------------------------------------------------\u001b[0m",
      "\u001b[0;31mFileExistsError\u001b[0m                           Traceback (most recent call last)",
      "\u001b[0;32m<ipython-input-4-095e62f804f6>\u001b[0m in \u001b[0;36m<module>\u001b[0;34m\u001b[0m\n\u001b[0;32m----> 1\u001b[0;31m \u001b[0mx\u001b[0m\u001b[0;34m=\u001b[0m\u001b[0mopen\u001b[0m\u001b[0;34m(\u001b[0m\u001b[0;34m'Records.json'\u001b[0m\u001b[0;34m,\u001b[0m\u001b[0;34m'x'\u001b[0m\u001b[0;34m)\u001b[0m\u001b[0;34m\u001b[0m\u001b[0;34m\u001b[0m\u001b[0m\n\u001b[0m",
      "\u001b[0;31mFileExistsError\u001b[0m: [Errno 17] File exists: 'Records.json'"
     ]
    }
   ],
   "source": [
    "x=open('Records.json','x')"
   ]
  },
  {
   "cell_type": "code",
   "execution_count": null,
   "id": "32b8a7fa",
   "metadata": {},
   "outputs": [],
   "source": [
    "x.close()"
   ]
  },
  {
   "cell_type": "code",
   "execution_count": null,
   "id": "8a5fb8b8",
   "metadata": {},
   "outputs": [],
   "source": [
    "x=open('Records.json','w')"
   ]
  },
  {
   "cell_type": "code",
   "execution_count": null,
   "id": "3ff673b1",
   "metadata": {},
   "outputs": [],
   "source": [
    "x.write(js)\n",
    "x.close()"
   ]
  },
  {
   "cell_type": "code",
   "execution_count": null,
   "id": "870af4c2",
   "metadata": {},
   "outputs": [],
   "source": []
  }
 ],
 "metadata": {
  "kernelspec": {
   "display_name": "Python 3",
   "language": "python",
   "name": "python3"
  },
  "language_info": {
   "codemirror_mode": {
    "name": "ipython",
    "version": 3
   },
   "file_extension": ".py",
   "mimetype": "text/x-python",
   "name": "python",
   "nbconvert_exporter": "python",
   "pygments_lexer": "ipython3",
   "version": "3.8.8"
  }
 },
 "nbformat": 4,
 "nbformat_minor": 5
}
